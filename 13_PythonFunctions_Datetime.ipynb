{
  "cells": [
    {
      "cell_type": "markdown",
      "metadata": {
        "id": "view-in-github",
        "colab_type": "text"
      },
      "source": [
        "<a href=\"https://colab.research.google.com/github/IhorBoledziuk/python-and-ceber/blob/main/13_PythonFunctions_Datetime.ipynb\" target=\"_parent\"><img src=\"https://colab.research.google.com/assets/colab-badge.svg\" alt=\"Open In Colab\"/></a>"
      ]
    },
    {
      "cell_type": "markdown",
      "metadata": {
        "id": "Vvcpt-18AqVE"
      },
      "source": [
        "<a href=\"https://colab.research.google.com/github/StefanMeyer7/Python-Fundamentals/blob/main/PythonFunctions_Datetime.ipynb\" target=\"_parent\"><img src=\"https://colab.research.google.com/assets/colab-badge.svg\" alt=\"Open In Colab\"/></a>"
      ]
    },
    {
      "cell_type": "markdown",
      "metadata": {
        "id": "nP_edUEZceHu"
      },
      "source": [
        "# User-defined functions using datetime library\n",
        "\n",
        "---\n"
      ]
    },
    {
      "cell_type": "markdown",
      "metadata": {
        "id": "GDXBwTsRceya"
      },
      "source": [
        "When working with dates and times, fairly common in data sets, we need to be able to extract certain bits of information.  \n",
        "\n",
        "In Python, as with other languages, dates and times are stored in a data structure that combines the two together and stores the information as a number of seconds since a start point (often 1st January 1900).  This is obviously a large number but every bit of information about a date can be extracted from it and used to give a wide range of information.  \n",
        "\n",
        "Have a go at the exercises below to use a selection of datetime functions and return a new bit of data from each, to be printed by the caller.\n",
        "\n",
        "Before you can use datetime functions you will need to import them. Import the datetime functions like this:\n",
        "\n",
        "`from datetime import datetime`  \n",
        "\n",
        "\n",
        "For more information about datetime functions visit [w3Schools-Python datetime](https://www.w3schools.com/python/python_datetime.asp) and [Python docs](https://docs.python.org/3/library/datetime.html)"
      ]
    },
    {
      "cell_type": "markdown",
      "metadata": {
        "id": "rzT7PoS9cgpc"
      },
      "source": [
        "---\n",
        "### Exercise 1 - print current date and time\n",
        "\n",
        "Write a function that will return the date and time now.  The caller will print it.  \n",
        "\n",
        "*Hint:  the format has been added for you, the other exercises will follow a similar format.   Always remember to import datetime from datetime as shown below*"
      ]
    },
    {
      "cell_type": "code",
      "execution_count": 5,
      "metadata": {
        "id": "pbPPKT1DciHO",
        "colab": {
          "base_uri": "https://localhost:8080/"
        },
        "outputId": "0f005ef0-c691-4c80-9751-8e42964d92ac"
      },
      "outputs": [
        {
          "output_type": "stream",
          "name": "stdout",
          "text": [
            "2023-12-10 23:17:27.473932\n"
          ]
        }
      ],
      "source": [
        "from datetime import datetime\n",
        "\n",
        "def get_current_date_time():\n",
        "    current_date_time = datetime.now()\n",
        "    return current_date_time\n",
        "\n",
        "current_datetime = get_current_date_time()\n",
        "print(current_datetime)"
      ]
    },
    {
      "cell_type": "markdown",
      "metadata": {
        "id": "-Ep29Zcqcj2J"
      },
      "source": [
        "---\n",
        "Exercise 2 - print the current year\n",
        "\n",
        "Write a function that will return the current year.  The caller will print the year."
      ]
    },
    {
      "cell_type": "code",
      "execution_count": 6,
      "metadata": {
        "id": "mvG4Fc4GcklO",
        "colab": {
          "base_uri": "https://localhost:8080/"
        },
        "outputId": "e1782ed2-528c-4a12-db21-7e6c6a25193a"
      },
      "outputs": [
        {
          "output_type": "stream",
          "name": "stdout",
          "text": [
            "2023\n"
          ]
        }
      ],
      "source": [
        "from datetime import datetime\n",
        "\n",
        "def get_current_year():\n",
        "    current_year = datetime.now().year\n",
        "    return current_year\n",
        "\n",
        "current_year = get_current_year()\n",
        "print(current_year)\n"
      ]
    },
    {
      "cell_type": "markdown",
      "metadata": {
        "id": "AVu3ZVE3cljj"
      },
      "source": [
        "---\n",
        "### Exercise 3 - print the current day of the week\n",
        "\n",
        "Write a function that will return the current day of the week.  The caller will print it."
      ]
    },
    {
      "cell_type": "code",
      "execution_count": 10,
      "metadata": {
        "id": "YGdApxsLcmSS",
        "colab": {
          "base_uri": "https://localhost:8080/"
        },
        "outputId": "90e1e06e-e0db-438e-c54a-f34d99dec979"
      },
      "outputs": [
        {
          "output_type": "stream",
          "name": "stdout",
          "text": [
            "2023-12-10 23:19:53.561930\n"
          ]
        }
      ],
      "source": [
        "from datetime import datetime, timezone\n",
        "\n",
        "def get_dayof_week_now():\n",
        "  return datetime.today().strftime('%A')\n",
        "\n",
        "now_date_day = get_dayof_week_now()\n",
        "\n",
        "print(now_date_day)"
      ]
    },
    {
      "cell_type": "markdown",
      "metadata": {
        "id": "PkkISgZscnZ3"
      },
      "source": [
        "---\n",
        "### Exercise 4 - create a new date\n",
        "\n",
        "Write a function that will take 3 parameters, day, month, year (3 numbers that make a valid date) and will create, and return a new date.  The caller will print the date."
      ]
    },
    {
      "cell_type": "code",
      "execution_count": 12,
      "metadata": {
        "id": "7XXYuEhDcnz7",
        "colab": {
          "base_uri": "https://localhost:8080/"
        },
        "outputId": "695a1851-9be2-4b8b-9776-d8afffd950d6"
      },
      "outputs": [
        {
          "output_type": "stream",
          "name": "stdout",
          "text": [
            "New Date: 2023-09-15 00:00:00\n"
          ]
        }
      ],
      "source": [
        "from datetime import datetime\n",
        "\n",
        "def create_new_date(day, month, year):\n",
        "    try:\n",
        "        new_date = datetime(year, month, day)\n",
        "        return new_date\n",
        "    except ValueError:\n",
        "        return None\n",
        "\n",
        "day = 15\n",
        "month = 9\n",
        "year = 2023\n",
        "new_date = create_new_date(day, month, year)\n",
        "\n",
        "if new_date:\n",
        "    print(\"New Date:\", new_date)\n",
        "else:\n",
        "    print(\"Invalid date. Please provide valid day, month, and year values.\")\n"
      ]
    },
    {
      "cell_type": "markdown",
      "metadata": {
        "id": "LGb976a3coqq"
      },
      "source": [
        "---\n",
        "### Exercise 5 - create a valid date\n",
        "\n",
        "Write a function that will take 3 parameters, day, month, year (3 numbers) and will:  \n",
        "*   check that the month is between 1 and 12  \n",
        "*   check that the day is valid for the month (e.g. if the month is 2, then the day must be between 1 and 28 (don't worry about leap years for the moment)  \n",
        "*   if the date is not valid, print an error message and return None (which the caller will print)  \n",
        "*   if the date is valid, store it in a new variable, return the variable and the caller will print it."
      ]
    },
    {
      "cell_type": "code",
      "execution_count": 23,
      "metadata": {
        "id": "63Z80bSocpFc",
        "colab": {
          "base_uri": "https://localhost:8080/"
        },
        "outputId": "72a28f71-6d69-4f6d-c1fb-c63ffc9b1e92"
      },
      "outputs": [
        {
          "output_type": "stream",
          "name": "stdout",
          "text": [
            "Valid Date: 10/02/2022\n"
          ]
        }
      ],
      "source": [
        "def validate_date(day, month, year):\n",
        "    month_valid = 1 <= month <= 12\n",
        "\n",
        "    if not month_valid:\n",
        "        print(\"Invalid month\")\n",
        "        return None\n",
        "\n",
        "    if month == 2:\n",
        "        # Check for leap year\n",
        "        if (year % 4 == 0 and year % 100 != 0) or (year % 400 == 0):\n",
        "            day_valid = 1 <= day <= 29\n",
        "        else:\n",
        "            day_valid = 1 <= day <= 28\n",
        "    elif month in [4, 6, 9, 11]:\n",
        "        day_valid = 1 <= day <= 30\n",
        "    else:\n",
        "        day_valid = 1 <= day <= 31\n",
        "\n",
        "    if not day_valid:\n",
        "        print(\"Invalid day for the given month\")\n",
        "        return None\n",
        "\n",
        "    return format_date(day, month, year)\n",
        "\n",
        "def format_date(day, month, year):\n",
        "    return f\"{day:02d}/{month:02d}/{year}\"\n",
        "\n",
        "day = 10\n",
        "month = 2\n",
        "year = 2022\n",
        "\n",
        "valid_date = validate_date(day, month, year)\n",
        "if valid_date is not None:\n",
        "    print(\"Valid Date:\", valid_date)\n"
      ]
    },
    {
      "cell_type": "markdown",
      "metadata": {
        "id": "R5ZBHZXScqYQ"
      },
      "source": [
        "---\n",
        "### Exercise 6 - is it a leap year?\n",
        "\n",
        "Write a function that will take a date as a parameter (you will need to create the date variable before calling the function) and will determine if it is a leap year, returning True or False.\n",
        "\n",
        "*Hint:  a leap year is a year that is divisible by 4 but the centuries (1900, 2000, etc are only leap years if they are divisible by 400)*"
      ]
    },
    {
      "cell_type": "code",
      "execution_count": 38,
      "metadata": {
        "id": "pj8Y8PAqcq4u",
        "colab": {
          "base_uri": "https://localhost:8080/"
        },
        "outputId": "e06aff7f-f259-454c-c8f2-4e78964bc027"
      },
      "outputs": [
        {
          "output_type": "stream",
          "name": "stdout",
          "text": [
            "1996 is a leap year\n"
          ]
        }
      ],
      "source": [
        "from datetime import datetime\n",
        "\n",
        "def is_leap_year(date):\n",
        "    year = date.year\n",
        "\n",
        "\n",
        "    if (year % 4 == 0 and year % 100 != 0) or (year % 400 == 0):\n",
        "        return True\n",
        "    else:\n",
        "        return False\n",
        "\n",
        "check_date = datetime(1996, 12, 15)\n",
        "\n",
        "if is_leap_year(check_date):\n",
        "    print(check_date.strftime(\"%Y\"), \"is a leap year\")\n",
        "else:\n",
        "    print(check_date.strftime(\"%Y\"), \"is not a leap year\")\n"
      ]
    },
    {
      "cell_type": "markdown",
      "metadata": {
        "id": "7SIry7OwcuMS"
      },
      "source": [
        "---\n",
        "### Exercise 7 - display parts of date/time\n",
        "\n",
        "Write a function that will take a date and print from it the following:  \n",
        "*  given date and time  \n",
        "*  year (in full)\n",
        "*  month (as a number)\n",
        "*  month name\n",
        "*  week number of the year  \n",
        "*  weekday of the week (as a number)  \n",
        "*  day of year  \n",
        "*  day of the month  \n",
        "*  day of week (as a name)  \n",
        "\n",
        "*Hint:  see w3Schools for [strftime reference](https://www.w3schools.com/python/python_datetime.asp)*\n",
        "\n"
      ]
    },
    {
      "cell_type": "code",
      "execution_count": null,
      "metadata": {
        "id": "iKsefU9ncuzl",
        "colab": {
          "base_uri": "https://localhost:8080/"
        },
        "outputId": "7b025934-620e-4134-fe09-f97e8deb172c"
      },
      "outputs": [
        {
          "output_type": "stream",
          "name": "stdout",
          "text": [
            "Given date and time: 2023-09-15 14:30:00\n",
            "Year (in full): 2023\n",
            "Month (as a number): 09\n",
            "Month name: September\n",
            "Week number of the year: 37\n",
            "Weekday of the week (as a number): 5\n",
            "Day of year: 258\n",
            "Day of the month: 15\n",
            "Day of the week (as a name): Friday\n"
          ]
        }
      ],
      "source": [
        "from datetime import datetime\n",
        "\n",
        "def display_date_parts(date):\n",
        "    # Display the given date and time\n",
        "    print(\"Given date and time:\", date.strftime(\"%Y-%m-%d %H:%M:%S\"))\n",
        "\n",
        "    # Display year (in full)\n",
        "    print(\"Year (in full):\", date.strftime(\"%Y\"))\n",
        "\n",
        "    # Display month (as a number)\n",
        "    print(\"Month (as a number):\", date.strftime(\"%m\"))\n",
        "\n",
        "    # Display month name\n",
        "    print(\"Month name:\", date.strftime(\"%B\"))\n",
        "\n",
        "    # Display week number of the year\n",
        "    print(\"Week number of the year:\", date.strftime(\"%U\"))\n",
        "\n",
        "    # Display weekday of the week (as a number)\n",
        "    print(\"Weekday of the week (as a number):\", date.strftime(\"%w\"))\n",
        "\n",
        "    # Display day of year\n",
        "    print(\"Day of year:\", date.strftime(\"%j\"))\n",
        "\n",
        "    # Display day of the month\n",
        "    print(\"Day of the month:\", date.strftime(\"%d\"))\n",
        "\n",
        "    # Display day of the week (as a name)\n",
        "    print(\"Day of the week (as a name):\", date.strftime(\"%A\"))\n",
        "\n",
        "# Create a date object (you can replace this with your desired date)\n",
        "given_date = datetime(2023, 9, 15, 14, 30, 0)\n",
        "\n",
        "# Call the function with the given date\n",
        "display_date_parts(given_date)\n"
      ]
    },
    {
      "cell_type": "markdown",
      "metadata": {
        "id": "fvDfw6C6cvwA"
      },
      "source": [
        "---\n",
        "### Exercise 8 - next 6 days\n",
        "\n",
        "Write a function that will take a date and generate the dates of the following 6 days.  It should print each of the 6 days in the form:  \n",
        "\n",
        "DAY OF THE WEEK, MONTH NAME, FULL YEAR\n",
        "\n",
        "Hint:  to generate the days, use the function datetime.timedelta(), there is a good example of its use [here](https://www.geeksforgeeks.org/python-datetime-timedelta-function/)  "
      ]
    },
    {
      "cell_type": "code",
      "execution_count": 39,
      "metadata": {
        "id": "qPrZzv7_cwJi",
        "colab": {
          "base_uri": "https://localhost:8080/"
        },
        "outputId": "29f9370e-72db-492c-e0d4-88a67c354571"
      },
      "outputs": [
        {
          "output_type": "stream",
          "name": "stdout",
          "text": [
            "Friday, September 15, 2023\n",
            "Saturday, September 16, 2023\n",
            "Sunday, September 17, 2023\n",
            "Monday, September 18, 2023\n",
            "Tuesday, September 19, 2023\n",
            "Wednesday, September 20, 2023\n",
            "Friday, September 15, 2023\n",
            "Saturday, September 16, 2023\n",
            "Sunday, September 17, 2023\n",
            "Monday, September 18, 2023\n",
            "Tuesday, September 19, 2023\n",
            "Wednesday, September 20, 2023\n"
          ]
        }
      ],
      "source": [
        "from datetime import datetime, timedelta\n",
        "\n",
        "def generate_next_6_days(start_date):\n",
        "    # Define a timedelta for one day\n",
        "    one_day = timedelta(days=1)\n",
        "\n",
        "    # Loop to generate and print the next 6 days\n",
        "    for i in range(6):\n",
        "        next_date = start_date + (i * one_day)\n",
        "        formatted_date = next_date.strftime(\"%A, %B %d, %Y\")\n",
        "        print(formatted_date)\n",
        "\n",
        "# Create a date object (you can replace this with your desired start date)\n",
        "start_date = datetime(2023, 9, 15)\n",
        "\n",
        "# Call the function with the start date\n",
        "generate_next_6_days(start_date)\n",
        "\n",
        "\n",
        "\n",
        "\n",
        "\n",
        "\n",
        "from datetime import datetime, timedelta\n",
        "\n",
        "def генерувати_наступні_6_днів(початкова_дата):\n",
        "    # Визначимо timedelta для одного дня\n",
        "    один_день = timedelta(days=1)\n",
        "\n",
        "    # Цикл для генерації та виведення наступних 6 днів\n",
        "    for i in range(6):\n",
        "        наступна_дата = початкова_дата + (i * один_день)\n",
        "        форматована_дата = наступна_дата.strftime(\"%A, %B %d, %Y\")\n",
        "        print(форматована_дата)\n",
        "\n",
        "# Створюємо об'єкт початкової дати (ви можете замінити його на бажану початкову дату)\n",
        "початкова_дата = datetime(2023, 9, 15)\n",
        "\n",
        "# Викликаємо функцію з початковою датою\n",
        "генерувати_наступні_6_днів(початкова_дата)\n"
      ]
    }
  ],
  "metadata": {
    "colab": {
      "provenance": [],
      "include_colab_link": true
    },
    "kernelspec": {
      "display_name": "Python 3",
      "name": "python3"
    },
    "language_info": {
      "name": "python"
    }
  },
  "nbformat": 4,
  "nbformat_minor": 0
}