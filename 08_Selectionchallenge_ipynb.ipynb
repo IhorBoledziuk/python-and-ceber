{
  "nbformat": 4,
  "nbformat_minor": 0,
  "metadata": {
    "colab": {
      "provenance": [],
      "include_colab_link": true
    },
    "kernelspec": {
      "name": "python3",
      "display_name": "Python 3"
    },
    "language_info": {
      "name": "python"
    }
  },
  "cells": [
    {
      "cell_type": "markdown",
      "metadata": {
        "id": "view-in-github",
        "colab_type": "text"
      },
      "source": [
        "<a href=\"https://colab.research.google.com/github/IhorBoledziuk/python-and-ceber/blob/main/08_selectionchallenge_ipynb.ipynb\" target=\"_parent\"><img src=\"https://colab.research.google.com/assets/colab-badge.svg\" alt=\"Open In Colab\"/></a>"
      ]
    },
    {
      "cell_type": "markdown",
      "source": [
        "<a href=\"https://colab.research.google.com/github/StefanMeyer7/Python-Fundamentals/blob/main/SelectionChallenge.ipynb\" target=\"_parent\"><img src=\"https://colab.research.google.com/assets/colab-badge.svg\" alt=\"Open In Colab\"/></a>"
      ],
      "metadata": {
        "id": "hypbENCo_DGn"
      }
    },
    {
      "cell_type": "markdown",
      "source": [
        "# Three selection challenges\n",
        "\n",
        "---\n"
      ],
      "metadata": {
        "id": "dXBVr9XG_X_R"
      }
    },
    {
      "cell_type": "markdown",
      "source": [
        "### Challenge 1 - password format  \n",
        "\n",
        "Write a function called **check_password_valid()** which will check the validity of a **password** input by a user.\n",
        "\n",
        "Rules for a valid password are:  \n",
        "\n",
        "*  At least 1 letter between [a-z] and 1 letter between [A-Z].\n",
        "*  At least 1 number between [0-9].\n",
        "*  At least 1 character from [$#@].\n",
        "*  Minimum length 6 characters.\n",
        "*  Maximum length 16 characters.  \n",
        "\n",
        "Let the user know if the `password` they have typed is valid and, if not, where was the first error.\n",
        "\n",
        "*Hint:  to test if a set of characters is present in a password String, you can use re.search('[character set]', `password`)*  \n",
        "\n",
        "Example:   \n",
        "*if re.search('[a-z]',`password`):*    \n",
        "if there is at least 1 character a-z in the password, re.search will not be None.\n",
        "\n",
        "**re** is a pre-written Python function for pattern searching in Strings.  It has been imported for you in the code cell below.  "
      ],
      "metadata": {
        "id": "_6gwhxsa_Yqt"
      }
    },
    {
      "cell_type": "code",
      "source": [
        "import re\n",
        "def check_password_valid(password):\n",
        "    password = input(\"Enter a password: \")\n",
        "    if len(password) < 6 or len(password) > 16:\n",
        "        return \"Invalid password length. Password should be between 6 and 16 characters.\"\n",
        "    if not re.search(\"[a-z]\", password):\n",
        "        return \"Invalid password. At least 1 lowercase letter [a-z] is required.\"\n",
        "    if not re.search(\"[A-Z]\", password):\n",
        "        return \"Invalid password. At least 1 uppercase letter [A-Z] is required.\"\n",
        "    if not re.search(\"[0-9]\", password):\n",
        "        return \"Invalid password. At least 1 digit [0-9] is required.\"\n",
        "    if not re.search(\"[$#@]\", password):\n",
        "        return \"Invalid password. At least 1 character from [$#@] is required.\"\n",
        "    return \"Valid password.\"\n",
        "print(check_password_valid(password))"
      ],
      "metadata": {
        "id": "LbgP53vJ_a2T",
        "colab": {
          "base_uri": "https://localhost:8080/"
        },
        "outputId": "1a65d538-5d43-4ba9-e201-d80ffb935f47"
      },
      "execution_count": null,
      "outputs": [
        {
          "output_type": "stream",
          "name": "stdout",
          "text": [
            "Enter a password: KSJq1@sjndind\n",
            "Valid password.\n"
          ]
        }
      ]
    },
    {
      "cell_type": "markdown",
      "source": [
        "---\n",
        "### Challenge 2 - triangle shape  \n",
        "\n",
        "Write a function called **evaluate_triangle_shape()** which will check if a triangle is equilateral, isosceles or scalene, based on the three side lengths entered by a user (**x**, **y** and **z**).\n",
        "\n",
        "An equilateral triangle is a triangle in which all three sides are equal.\n",
        "A scalene triangle is a triangle that has three unequal sides.\n",
        "An isosceles triangle is a triangle with (at least) two equal sides.\n",
        "\n",
        "For example:  \n",
        "A triange with side lengths                                 \n",
        "x: 6                                                                    \n",
        "y: 8                                                                    \n",
        "z: 12                                                                   \n",
        "is a *Scalene triangle*\n",
        "\n",
        "A triangle with side lengths\n",
        "x:5  \n",
        "y:3   \n",
        "z:5  \n",
        "is an *Isosceles triangle*"
      ],
      "metadata": {
        "id": "ItfugXAk_cJI"
      }
    },
    {
      "cell_type": "code",
      "source": [
        "def evaluate_triangle_shape(x, y, z):\n",
        "    if x == y == z:\n",
        "        print(\"The triangle is equilateral\")\n",
        "    elif x != y and y != z and z != x:\n",
        "        print(\"The triangle is scalene\")\n",
        "    else:\n",
        "        print(\"The triangle is isosceles\")\n",
        "evaluate_triangle_shape(5, 3, 5)\n"
      ],
      "metadata": {
        "id": "YhvNRSrR_fwV",
        "colab": {
          "base_uri": "https://localhost:8080/"
        },
        "outputId": "a05c0883-9e24-42ad-da3f-1302cff87611"
      },
      "execution_count": null,
      "outputs": [
        {
          "output_type": "stream",
          "name": "stdout",
          "text": [
            "The triangle is isosceles\n"
          ]
        }
      ]
    },
    {
      "cell_type": "markdown",
      "source": [
        "---\n",
        "### Challenge 3 - which season\n",
        "\n",
        "Write a function called **determine_season()** which will ask the user to enter two integers representing a **month** and **day** and prints the season for that month and day.\n",
        "\n",
        "Note:  for this exercise the season dates are:\n",
        "*  Winter December 21 to March 20    \n",
        "*  Spring March 21 to June 20  \n",
        "*  Summer June 21 to September 20  \n",
        "*  Autumn September 21 to December 20\n",
        "\n",
        "Test input:  \n",
        "Input the month (e.g. January, February etc.): 7                     \n",
        "Input the day: 31                                                       \n",
        "\n",
        "Expected output:  \n",
        "Season is summer\n",
        "\n",
        "*Note: this will require multiple and or or operators and you should use brackets to help Python know which operations to do first*  \n",
        "\n",
        "*For an extra challenge you can check that the day is valid for the month*"
      ],
      "metadata": {
        "id": "DEy3P3-O_gsI"
      }
    },
    {
      "cell_type": "code",
      "source": [
        "def determine_season():\n",
        "    month = int(input(\"Enter the month (1-12): \"))\n",
        "    day = int(input(\"Enter the day (1-31): \"))\n",
        "    if month == 12 and day >= 21 or month <= 3 and day <= 20:\n",
        "        print(\"Winter\")\n",
        "    elif month >= 3 and day >= 21 or month <= 6 and day <= 20:\n",
        "        print(\"Spring\")\n",
        "    elif month >= 6 and day >= 21 or month <= 9 and day <= 20:\n",
        "        print(\"Summer\")\n",
        "    else:\n",
        "        print(\"Autumn\")\n",
        "determine_season()"
      ],
      "metadata": {
        "id": "5hKAawCu_iln",
        "colab": {
          "base_uri": "https://localhost:8080/"
        },
        "outputId": "0ccd1088-ee2d-48d7-e1ec-be976282a8ca"
      },
      "execution_count": null,
      "outputs": [
        {
          "output_type": "stream",
          "name": "stdout",
          "text": [
            "Enter the month (1-12): 1\n",
            "Enter the day (1-31): 6\n",
            "Winter\n"
          ]
        }
      ]
    }
  ]
}
