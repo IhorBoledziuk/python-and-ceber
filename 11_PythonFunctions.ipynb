{
  "cells": [
    {
      "cell_type": "markdown",
      "metadata": {
        "id": "view-in-github",
        "colab_type": "text"
      },
      "source": [
        "<a href=\"https://colab.research.google.com/github/IhorBoledziuk/python-and-ceber/blob/main/11_PythonFunctions.ipynb\" target=\"_parent\"><img src=\"https://colab.research.google.com/assets/colab-badge.svg\" alt=\"Open In Colab\"/></a>"
      ]
    },
    {
      "cell_type": "markdown",
      "metadata": {
        "id": "Vvcpt-18AqVE"
      },
      "source": [
        "<a href=\"https://colab.research.google.com/github/StefanMeyer7/Python-Fundamentals/blob/main/PythonFunctions.ipynb\" target=\"_parent\"><img src=\"https://colab.research.google.com/assets/colab-badge.svg\" alt=\"Open In Colab\"/></a>"
      ]
    },
    {
      "cell_type": "markdown",
      "metadata": {
        "id": "sFf_RJVdUAd7"
      },
      "source": [
        "# Python functions\n",
        "\n",
        "---"
      ]
    },
    {
      "cell_type": "markdown",
      "metadata": {
        "id": "xBFk8HVPUCB2"
      },
      "source": [
        "You have already been using functions that are provided with Python  \n",
        "*  print()\n",
        "*  input()\n",
        "*  randint() *(from random)*\n",
        "\n",
        "You can tell that they are functions because they have brackets after the name. Often there is some data in the brackets (ie something that you want the function to use on this occasion)\n",
        "\n",
        "*  print(\"Hello\")\n",
        "*  input(\"What is your name? \")\n",
        "*  randint(1,6) *(from the random function library)*\n",
        "\n",
        "The data is called a *parameter* or an *argument*.  There can be any number of parameters passed to a function.  Order is important but can sometimes be overridden.\n",
        "\n",
        "Some functions just do something (e.g. print(\"Hello\") will just print the word Hello)..  \n",
        "\n",
        "Other functions produce some new data which you will assign to a variable:  \n",
        "```\n",
        "name = input(\"What is your name? \")  \n",
        "dice_roll = randint(1,6)\n",
        "```\n",
        "\n",
        "Each time you use a function's name in your program, or in another function, you are calling it and it will run.\n",
        "\n"
      ]
    },
    {
      "cell_type": "markdown",
      "metadata": {
        "id": "AIYd6YwxUDZD"
      },
      "source": [
        "---\n",
        "### Exercise 1 - len() of a string\n",
        "\n",
        "Write a function called **get_password()** which will get a password of 8 characters:  \n",
        "\n",
        "*  assign the value \"\" to a variable called **password**  \n",
        "*  start a while loop that will continue to loop while the length of `password` is not 8 characters    \n",
        "*  in the loop:  ask the user to enter a `password`\n",
        "*  after the loop, return the password to the calling program, which will print the valid password.  \n",
        "\n",
        "Test input:  \n",
        "abddgejkfjkl   \n",
        "999999999  \n",
        "ABCDEFH   \n",
        "\n",
        "Expected output:  \n",
        "ABCDEFGH  "
      ]
    },
    {
      "cell_type": "code",
      "execution_count": 20,
      "metadata": {
        "id": "uZ7LBtQDUFxq",
        "outputId": "ccd9a941-650a-4deb-ea79-6c2b251fabd8",
        "colab": {
          "base_uri": "https://localhost:8080/"
        }
      },
      "outputs": [
        {
          "output_type": "stream",
          "name": "stdout",
          "text": [
            "input paswordABCDEFH+1\n",
            "input paswordABCDEFH\n",
            "input paswordABCDEFHО\n",
            "ABCDEFHО\n",
            "None\n"
          ]
        }
      ],
      "source": [
        "def get_password():\n",
        "  password ='ABCDEFH+1'\n",
        "  while len(password) != 8:\n",
        "    password = input('input pasword')\n",
        "  print(password)\n",
        "\n",
        "print(get_password())"
      ]
    },
    {
      "cell_type": "markdown",
      "metadata": {
        "id": "p_CkC4wNURFH"
      },
      "source": [
        "---\n",
        "### Exercise 2 - capitalise username\n",
        "\n",
        "Write a function called **get_username()** which will:  \n",
        "\n",
        "*  ask the user for a **username**  \n",
        "*  convert the `username` to upper case and assign the new value to a variable called **username_upper**   \n",
        "* if `username_upper` is \"ADMINUSER1\" then return \"Valid user\", otherwise return \"Invalid username\".  The calling program will print the message.  \n",
        "\n",
        "Test input:  \n",
        "admin\n",
        "\n",
        "Expected output:  \n",
        "Invalid username\n",
        "\n",
        "Test input:  \n",
        "AdminUser1\n",
        "\n",
        "Expected output:  \n",
        "Valid user  \n"
      ]
    },
    {
      "cell_type": "code",
      "source": [],
      "metadata": {
        "id": "CJaW4vUSdNZz"
      },
      "execution_count": null,
      "outputs": []
    },
    {
      "cell_type": "code",
      "execution_count": 34,
      "metadata": {
        "id": "GwQ62wpDUS01",
        "outputId": "42b6a1d0-a07f-4f75-b040-0e04f7191806",
        "colab": {
          "base_uri": "https://localhost:8080/"
        }
      },
      "outputs": [
        {
          "output_type": "stream",
          "name": "stdout",
          "text": [
            "prit use nrname: AdminUser1\n",
            "Valid user\n"
          ]
        }
      ],
      "source": [
        "def get_username():\n",
        "\n",
        "  username = input('prit use nrname: ')\n",
        "\n",
        "  if username.upper() == \"ADMINUSER1\":\n",
        "    return \"Valid user\"\n",
        "  else:\n",
        "    return \"Invalid username\"\n",
        "\n",
        "print(get_username())"
      ]
    },
    {
      "cell_type": "markdown",
      "metadata": {
        "id": "dz5MgKXdUUMo"
      },
      "source": [
        "---\n",
        "### Exercise 3 - select correct message\n",
        "\n",
        "Write a function called **get_credentials()** which will:  \n",
        "\n",
        "*  ask the user for a **username**  \n",
        "*  ask the user for a **password**  \n",
        "*  return one of the following messages:\n",
        "*  *  \"Credentials accepted\"  \n",
        "*  *  \"Invalid user\"  \n",
        "*  *  \"Password too short\"  \n",
        "\n",
        "Note:  `username` must be \"AdminUser1\" and the password must be at least 8 characters.  The calling program will print the message.  \n",
        "\n",
        "Test input:  \n",
        "AdminUser1\n",
        "abc999def\n",
        "\n",
        "Expected output:  \n",
        "Credentials accepted\n",
        "\n",
        "Test input:  \n",
        "AdminUser1\n",
        "abc\n",
        "\n",
        "Expected output:  \n",
        "Password too short  \n",
        "\n",
        "Test input:  \n",
        "User1\n",
        "abc999def\n",
        "\n",
        "Expected output:  \n",
        "Invalid user  "
      ]
    },
    {
      "cell_type": "code",
      "execution_count": 52,
      "metadata": {
        "id": "Ts6208g_UU9a",
        "colab": {
          "base_uri": "https://localhost:8080/"
        },
        "outputId": "4f61096b-72f1-48e9-bc42-4bca0d815259"
      },
      "outputs": [
        {
          "name": "stdout",
          "output_type": "stream",
          "text": [
            "Input username AdminUser\n",
            "Input password abc999def\n"
          ]
        }
      ],
      "source": [
        "def get_credentials():\n",
        "  username = input('Input username ')\n",
        "  password = input('Input password ')\n",
        "  if username != 'AdminUser':\n",
        "    message = 'Invalid user'\n",
        "    if len(password) < 8:\n",
        "      message = 'Password too short'\n",
        "    else:\n",
        "      message = 'Credentials accepted'\n",
        "    print(message)\n",
        "\n",
        "get_credentials()"
      ]
    },
    {
      "cell_type": "markdown",
      "metadata": {
        "id": "X_--igvaUVwM"
      },
      "source": [
        "---\n",
        "### Exercise 4 - round to given dp\n",
        "\n",
        "Write a function called **get_rounded_float()** which will:  \n",
        "\n",
        "*  ask the user for a decimal **number**  \n",
        "*  ask the user for a number of **places** to round to  \n",
        "*  return the number rounded to the requested number of decimal places\n",
        "\n",
        "Note:  The calling program will print the number.  \n",
        "\n",
        "Test input:  \n",
        "3.14159  \n",
        "2\n",
        "\n",
        "Expected output:  \n",
        "3.14  \n",
        "\n",
        "Test input:  \n",
        "98.6666666666666  \n",
        "4  \n",
        "\n",
        "Expected output:  \n",
        "98.6667  "
      ]
    },
    {
      "cell_type": "code",
      "execution_count": 55,
      "metadata": {
        "id": "YxWVW-tCUWi0",
        "colab": {
          "base_uri": "https://localhost:8080/"
        },
        "outputId": "91cd7130-2191-43df-d3e9-ffa2afbe608a"
      },
      "outputs": [
        {
          "output_type": "stream",
          "name": "stdout",
          "text": [
            "Input decimal number: 98.6666666666666\n",
            "Input places to round: 5\n",
            "98.66667\n"
          ]
        }
      ],
      "source": [
        "def get_rounded_float():\n",
        "  number = float(input('Input decimal number: '))\n",
        "  places = int(input('Input places to round: '))\n",
        "  return round(number, places)\n",
        "\n",
        "print(get_rounded_float())"
      ]
    },
    {
      "cell_type": "markdown",
      "metadata": {
        "id": "_3cAVG4dUdNy"
      },
      "source": [
        "---\n",
        "### Exercise 5 - round or not\n",
        "\n",
        "Write a function called **get_rounded_float()** which will:  \n",
        "\n",
        "*  ask the user for a decimal **number**  \n",
        "*  ask the user if they would like to round the number (Y or N) assign this value to **round_number**\n",
        "*  if `round_number` is \"Y\", then ask the user for a number of **places** to round to and return the number rounded to the required number of decimal places  \n",
        "*  otherwise, return the number as it was typed in\n",
        "\n",
        "Note:  The calling program will print the number.  \n",
        "\n",
        "Test input:  \n",
        "3.14159  \n",
        "Y  \n",
        "3\n",
        "\n",
        "Expected output:  \n",
        "3.142\n",
        "\n",
        "Test input:  \n",
        "98.6666666666666  \n",
        "N\n",
        "\n",
        "Expected output:  \n",
        "98.6666666666666  "
      ]
    },
    {
      "cell_type": "code",
      "execution_count": 58,
      "metadata": {
        "id": "37yoNHUMUfU1",
        "colab": {
          "base_uri": "https://localhost:8080/"
        },
        "outputId": "ee2cc18b-0612-48ca-faf3-835e705a4d17"
      },
      "outputs": [
        {
          "output_type": "stream",
          "name": "stdout",
          "text": [
            "Enter a decimal number: 3.14159\n",
            "Would you like to round the number? (Y/N): Y\n",
            "Enter the number of decimal places to round to: 3\n",
            "3.142\n",
            "None\n"
          ]
        }
      ],
      "source": [
        "def get_rounded_float():\n",
        "    number = float(input(\"Enter a decimal number: \"))\n",
        "    round_number = input(\"Would you like to round the number? (Y/N): \")\n",
        "\n",
        "    if round_number.upper() == \"Y\":\n",
        "        places = int(input(\"Enter the number of decimal places to round to: \"))\n",
        "        rounded_number = round(number, places)\n",
        "        print(rounded_number)\n",
        "    else:\n",
        "        print(number)\n",
        "\n",
        "print(get_rounded_float())"
      ]
    },
    {
      "cell_type": "markdown",
      "metadata": {
        "id": "3QKlC5GSUgpR"
      },
      "source": [
        "---\n",
        "### Exercise 6 - random number and places\n",
        "\n",
        "Write a function called **generate_rounded_float()** which will:  \n",
        "\n",
        "*  import the functions uniform and randint from random (from random import uniform, randint)    \n",
        "Note *: the uniform function will generate a random float between two given boundary numbers ( e.g. number = uniform(10,20)).  It is better practice to name the functions you will be using from a library rather than importing the whole library, which could be large*  \n",
        "\n",
        "*  generate a random decimal **number** between 1 and 100   \n",
        "*  print the `number`   \n",
        "*  generate a random integer **places** between 1 and 4\n",
        "*  print `places`\n",
        "*  return the `number` rounded to the given number of `places`\n",
        "\n",
        "Note **bold text**:  The calling program will print the number.  \n",
        "\n",
        "**Example 1:**  \n",
        "Random number is 3.14159  \n",
        "Number of places is 3  \n",
        "\n",
        "Expected result: 3.142\n",
        "\n",
        "**Example 2**:  \n",
        "Random number is 98.6666666666666  \n",
        "Number of places is 4  \n",
        "\n",
        "Expected result: 98.6667"
      ]
    },
    {
      "cell_type": "code",
      "execution_count": 65,
      "metadata": {
        "id": "QM4vQcY9Uh2D",
        "colab": {
          "base_uri": "https://localhost:8080/"
        },
        "outputId": "c1568114-6b4c-4a99-e002-c87598ee97d9"
      },
      "outputs": [
        {
          "output_type": "stream",
          "name": "stdout",
          "text": [
            "Random number is 5.180046253633844\n",
            "Number of places is 30\n"
          ]
        },
        {
          "output_type": "execute_result",
          "data": {
            "text/plain": [
              "5.180046253633844"
            ]
          },
          "metadata": {},
          "execution_count": 65
        }
      ],
      "source": [
        "from random import uniform, randint\n",
        "\n",
        "def generate_rounded_float():\n",
        "    number = uniform(1, 100)\n",
        "    print(\"Random number is\", number)\n",
        "\n",
        "    places = randint(1, 45)\n",
        "    print(\"Number of places is\", places)\n",
        "\n",
        "    return = round(number, places)\n",
        "\n",
        "generate_rounded_float()"
      ]
    }
  ],
  "metadata": {
    "colab": {
      "provenance": [],
      "include_colab_link": true
    },
    "kernelspec": {
      "display_name": "Python 3",
      "name": "python3"
    },
    "language_info": {
      "name": "python"
    }
  },
  "nbformat": 4,
  "nbformat_minor": 0
}